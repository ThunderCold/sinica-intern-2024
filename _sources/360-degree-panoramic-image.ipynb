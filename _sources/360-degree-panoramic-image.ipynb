{
 "cells": [
  {
   "cell_type": "markdown",
   "metadata": {},
   "source": [
    "# 360 Degree Panoramic Image"
   ]
  },
  {
   "cell_type": "markdown",
   "metadata": {},
   "source": [
    "## Panoramic Photo Shooting\n",
    "\n",
    "- Taking pictures with QooCam 8K camera at Academia Sinica, Taiwan.\n",
    "- After uploading the photo, embed it into the website using [Pannellum](https://pannellum.org/).\n"
   ]
  },
  {
   "cell_type": "markdown",
   "metadata": {},
   "source": [
    "### Method 1 - Use `<iframe>` to embed it into HTML"
   ]
  },
  {
   "cell_type": "markdown",
   "metadata": {},
   "source": [
    "```html\n",
    "<iframe width=\"780\" height=\"520\" allowfullscreen style=\"border-style:none;\" src=\"https://cdn.pannellum.org/2.5/pannellum.htm#panorama=https%3A//i.imgur.com/SuXQP5D.jpg&author=ThunderCold&autoLoad=true\"></iframe>\n",
    "```"
   ]
  },
  {
   "cell_type": "markdown",
   "metadata": {},
   "source": [
    "<iframe width=\"780\" height=\"520\" allowfullscreen style=\"border-style:none;\" src=\"https://cdn.pannellum.org/2.5/pannellum.htm#panorama=https%3A//i.imgur.com/SuXQP5D.jpg&author=ThunderCold&autoLoad=true\"></iframe>"
   ]
  },
  {
   "cell_type": "markdown",
   "metadata": {},
   "source": [
    "- Pros\n",
    "    - Short code\n",
    "    - Quick and convenient\n",
    "- Cons\n",
    "    - Low flexibility\n",
    "    - Embed external resources"
   ]
  },
  {
   "cell_type": "markdown",
   "metadata": {},
   "source": [
    "### Method 2 - Use the Pannellum API"
   ]
  },
  {
   "cell_type": "markdown",
   "metadata": {},
   "source": [
    "```html\n",
    "<!DOCTYPE HTML>\n",
    "<html>\n",
    "<head>\n",
    "    <meta charset=\"utf-8\">\n",
    "    <meta name=\"viewport\" content=\"width=device-width, initial-scale=1.0\">\n",
    "    <title>A simple example</title>\n",
    "    <link rel=\"stylesheet\" href=\"https://cdn.jsdelivr.net/npm/pannellum@2.5.6/build/pannellum.css\"/>\n",
    "    <script type=\"text/javascript\" src=\"https://cdn.jsdelivr.net/npm/pannellum@2.5.6/build/pannellum.js\"></script>\n",
    "    <style>\n",
    "    #panorama {\n",
    "        width: 780px;\n",
    "        height: 520px;\n",
    "    }\n",
    "    </style>\n",
    "</head>\n",
    "<body>\n",
    "\n",
    "<div id=\"panorama\"></div>\n",
    "<script>\n",
    "pannellum.viewer('panorama', {\n",
    "    \"type\": \"equirectangular\",\n",
    "    \"panorama\": \"_static/360-degree-image.JPG\",\n",
    "    \"autoLoad\": true\n",
    "});\n",
    "</script>\n",
    "\n",
    "</body>\n",
    "</html>\n",
    "```"
   ]
  },
  {
   "cell_type": "markdown",
   "metadata": {},
   "source": [
    "<head>\n",
    "    <meta charset=\"utf-8\">\n",
    "    <meta name=\"viewport\" content=\"width=device-width, initial-scale=1.0\">\n",
    "    <title>A simple example</title>\n",
    "    <link rel=\"stylesheet\" href=\"https://cdn.jsdelivr.net/npm/pannellum@2.5.6/build/pannellum.css\"/>\n",
    "    <script type=\"text/javascript\" src=\"https://cdn.jsdelivr.net/npm/pannellum@2.5.6/build/pannellum.js\"></script>\n",
    "    <style>\n",
    "    #panorama {\n",
    "        width: 780px;\n",
    "        height: 520px;\n",
    "    }\n",
    "    </style>\n",
    "</head>\n",
    "<body>\n",
    "\n",
    "<div id=\"panorama\"></div>\n",
    "<script>\n",
    "pannellum.viewer('panorama', {\n",
    "    \"type\": \"equirectangular\",\n",
    "    \"panorama\": \"_static/360-degree-image.JPG\",\n",
    "    \"autoLoad\": true\n",
    "});\n",
    "</script>\n",
    "\n",
    "</body>"
   ]
  },
  {
   "cell_type": "markdown",
   "metadata": {},
   "source": [
    "- Pros\n",
    "    - Highly customizable\n",
    "    - High flexibility\n",
    "- Cons\n",
    "    - Requires more development work"
   ]
  }
 ],
 "metadata": {
  "language_info": {
   "name": "python"
  }
 },
 "nbformat": 4,
 "nbformat_minor": 2
}
